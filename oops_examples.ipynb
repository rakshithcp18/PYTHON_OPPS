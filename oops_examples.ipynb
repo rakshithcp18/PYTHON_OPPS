{
 "cells": [
  {
   "cell_type": "code",
   "execution_count": 57,
   "metadata": {},
   "outputs": [
    {
     "name": "stdout",
     "output_type": "stream",
     "text": [
      " the Student marks is  50\n"
     ]
    }
   ],
   "source": [
    "#encapsulation \n",
    "class student:\n",
    "    def __init__(self):\n",
    "        self.__marks=50     # private data (prevents the accidental modification)\n",
    "\n",
    "    def display(self):\n",
    "        print(f\" the Student marks is \",self.__marks)\n",
    "\n",
    "s1=student()\n",
    "s1.display()"
   ]
  },
  {
   "cell_type": "code",
   "execution_count": 58,
   "metadata": {},
   "outputs": [
    {
     "name": "stdout",
     "output_type": "stream",
     "text": [
      "the name of the vehicle is truck and price is 150000 \n",
      "the maximum speed of the vehicle is 100\n",
      "the maximum speed of the car is 150\n",
      "the name of the vehicle is audi and price is 200000 \n"
     ]
    }
   ],
   "source": [
    "#polymorphism\n",
    "class veh:\n",
    "    def __init__(self,name,price):\n",
    "        self.name=name\n",
    "        self.price=price\n",
    "\n",
    "    def get_details(self):\n",
    "        print(f\"the name of the vehicle is {self.name} and price is {self.price} \")\n",
    "\n",
    "    def max_speed(self):\n",
    "        print(\"the maximum speed of the vehicle is 100\")\n",
    "\n",
    "\n",
    "class car(veh):\n",
    "    def max_speed(self):\n",
    "        print(\"the maximum speed of the car is 150\")\n",
    "\n",
    "v1=veh(\"truck\",150000)\n",
    "v1.get_details()\n",
    "v1.max_speed()\n",
    "c1=car(\"audi\",200000)                                 # max_speed method is defined in both the class but it behaves in different cases based on the object it was getting created\n",
    "c1.max_speed()\n",
    "c1.get_details()\n"
   ]
  },
  {
   "cell_type": "code",
   "execution_count": 59,
   "metadata": {},
   "outputs": [
    {
     "name": "stdout",
     "output_type": "stream",
     "text": [
      "the total length of the cart is \n",
      "4\n"
     ]
    }
   ],
   "source": [
    "class cart:\n",
    "    def __init__(self,basket1,basket2):\n",
    "        self.clothes=basket1\n",
    "        self.electronics=basket2\n",
    "\n",
    "    #over-riding the built in function by using the magic method (i,e __str__)\n",
    "    def __len__(self):\n",
    "        print(\"the total length of the cart is \")\n",
    "        return len(self.clothes)+len(self.electronics)\n",
    "\n",
    "c1=cart(['pant','shirt'],['mobile','laptop'])\n",
    "print(len(c1))\n"
   ]
  },
  {
   "cell_type": "code",
   "execution_count": 60,
   "metadata": {},
   "outputs": [
    {
     "name": "stdout",
     "output_type": "stream",
     "text": [
      "diesel\n",
      "the max speed is 300kmph\n",
      "-----------\n",
      "Diesel\n",
      "the max speed is 600kmph\n"
     ]
    }
   ],
   "source": [
    "#polymorphism in methods\n",
    "\n",
    "class BMW:\n",
    "    def fuel_type(self):\n",
    "        print(\"diesel\")\n",
    "\n",
    "    def max_speed(self):\n",
    "        print(\"the max speed is 300kmph\")\n",
    "\n",
    "class AUDI:\n",
    "    def fuel_type(self):\n",
    "        print(\"Diesel\")\n",
    "\n",
    "    def max_speed(self):\n",
    "        print(\"the max speed is 600kmph\")\n",
    "\n",
    "def veh_details(obj):\n",
    "    obj.fuel_type()\n",
    "    obj.max_speed()\n",
    "\n",
    "bmw=BMW()\n",
    "veh_details(bmw)\n",
    "print(\"-----------\")\n",
    "audi=AUDI()\n",
    "veh_details(audi)\n"
   ]
  },
  {
   "cell_type": "code",
   "execution_count": 61,
   "metadata": {},
   "outputs": [
    {
     "name": "stdout",
     "output_type": "stream",
     "text": [
      "the total amount of two books is  1500\n"
     ]
    }
   ],
   "source": [
    "#operator overloading\n",
    "\n",
    "class Book:\n",
    "    def __init__(self,title,price):\n",
    "        self.title=title\n",
    "        self.price=price\n",
    "\n",
    "    def __add__(self,other):\n",
    "        total=self.price+other.price\n",
    "        return Book(\"all books\",total)\n",
    "    \n",
    "    def __str__(self):\n",
    "        return str(self.price)\n",
    "\n",
    "\n",
    "b1=Book(\"one man show\",100)\n",
    "b2=Book(\"the great man\",200)\n",
    "b3=Book(\"the man\",300)\n",
    "b4=Book(\" man\",400)\n",
    "b5=Book(\" ma\",500)\n",
    "print(\"the total amount of two books is \", b1+b2+b3+b4+b5 )\n",
    "       "
   ]
  },
  {
   "cell_type": "code",
   "execution_count": 62,
   "metadata": {},
   "outputs": [
    {
     "name": "stdout",
     "output_type": "stream",
     "text": [
      "True\n"
     ]
    }
   ],
   "source": [
    "#operator>overloading\n",
    "\n",
    "class Food:\n",
    "    def __init__(self,name,price):\n",
    "        self.name=name\n",
    "        self.price=price\n",
    "\n",
    "    def __gt__(self,other):\n",
    "        return self.price>other.price\n",
    "    \n",
    "\n",
    "F1=Food(\"abc\",100)\n",
    "F2=Food(\"def\",200)\n",
    "\n",
    "\n",
    "print(F1<F2)"
   ]
  },
  {
   "cell_type": "code",
   "execution_count": 63,
   "metadata": {},
   "outputs": [
    {
     "name": "stdout",
     "output_type": "stream",
     "text": [
      "the area of the square is  25\n",
      "the area of the rectangle is  200\n",
      "the area of the triangle is  3000.0\n"
     ]
    }
   ],
   "source": [
    "#method overloading (the same method executed on the parameter passed on the method)\n",
    "\n",
    "class Area:\n",
    "    def area(self,l=0,b=0,h=0):\n",
    "        if l>0 and b>0 and h>0:\n",
    "            print(\"the area of the triangle is \",0.5*l*b*h)\n",
    "        elif l>0 and b>0 and h==0:\n",
    "            print(\"the area of the rectangle is \" ,l*b)\n",
    "        else :\n",
    "            print(\"the area of the square is \" ,l*l)\n",
    "\n",
    "a1=Area()\n",
    "a1.area(5)\n",
    "a1.area(10,20)\n",
    "a1.area(10,20,30)\n",
    "\n"
   ]
  },
  {
   "cell_type": "code",
   "execution_count": 65,
   "metadata": {},
   "outputs": [
    {
     "name": "stdout",
     "output_type": "stream",
     "text": [
      "the name is ram and the age is 21\n",
      "the date of birth is 11 / 3 / 1999\n"
     ]
    }
   ],
   "source": [
    "# nested class\n",
    "class student:\n",
    "    def __init__(self,name,age,dd,mm,yy):\n",
    "        self.name=name\n",
    "        self.age=age\n",
    "        self.dob=self.DOB(dd,mm,yy)                                             # the inner class object is created with self.dob using that only the inner class method can aslo be accessed.\n",
    "\n",
    "    def display(self):\n",
    "        print(f\"the name is {self.name} and the age is {self.age}\")\n",
    "        s1.dob.display()\n",
    "\n",
    "    class DOB:\n",
    "        def __init__(self,dd,mm,yy):\n",
    "            self.dd=dd\n",
    "            self.mm=mm\n",
    "            self.yy=yy\n",
    "        \n",
    "        def display(self):\n",
    "            print(f\"the date of birth is {self.dd} / {self.mm} / {self.yy}\")\n",
    "\n",
    "s1=student(\"ram\",21,11,3,1999)\n",
    "s1.display()\n"
   ]
  },
  {
   "cell_type": "code",
   "execution_count": 96,
   "metadata": {},
   "outputs": [
    {
     "name": "stdout",
     "output_type": "stream",
     "text": [
      "employee id is : 101\n",
      "employee name is : ramesh hello\n"
     ]
    }
   ],
   "source": [
    "#access members of one class inside other class\n",
    "\n",
    "class Employee:\n",
    "    def __init__(self,id,name):\n",
    "        self.id=id\n",
    "        self.name=name\n",
    "\n",
    "    def display(self):\n",
    "        print(\"employee id is :\",self.id)\n",
    "        print(\"employee name is :\",self.name)\n",
    "\n",
    "\n",
    "class changes:\n",
    "    @staticmethod\n",
    "    def increase(obj):\n",
    "        obj.name=obj.name + \" \" + \"hello\"\n",
    "        obj.display()\n",
    "\n",
    "\n",
    "emp1=Employee(101,\"ramesh\")\n",
    "changes.increase(emp1)\n"
   ]
  },
  {
   "cell_type": "code",
   "execution_count": 109,
   "metadata": {},
   "outputs": [
    {
     "name": "stdout",
     "output_type": "stream",
     "text": [
      "the movie was added to the list\n",
      "the movie was added to the list\n",
      "the all movie information :\n",
      " movie name : kgf\n",
      "  year: 2022\n",
      "  hero: yash\n",
      "\n",
      " movie name : puspha\n",
      "  year: 2020\n",
      "  hero: allu_arjun\n",
      "\n"
     ]
    }
   ],
   "source": [
    "#storing the objects in a list\n",
    "\n",
    "class movie:\n",
    "    def __init__(self,name,year,hero):\n",
    "        self.name=name\n",
    "        self.year=year\n",
    "        self.hero=hero\n",
    "\n",
    "    def display(self):\n",
    "        print(f\" movie name : {self.name}\\n  year: {self.year}\\n  hero: {self.hero}\\n\")\n",
    "\n",
    "list_of_movies=[]\n",
    "while True:\n",
    "    name=input(\"enter the name of the movie\")\n",
    "    year=input(\"enter the year in which movie was released\")\n",
    "    hero=input(\"enter the hero of the movie\")\n",
    "    obj=movie(name,year,hero)\n",
    "    list_of_movies.append(obj)\n",
    "    print(\"the movie was added to the list\")\n",
    "    ans=input(\"do you want enter the another movie ? (y/n)\")\n",
    "    if ans!='y':\n",
    "        break\n",
    "\n",
    "\n",
    "print(\"the all movie information :\")\n",
    "for obj in list_of_movies:\n",
    "    obj.display()\n",
    "\n",
    "\n",
    "\n"
   ]
  },
  {
   "cell_type": "code",
   "execution_count": 112,
   "metadata": {},
   "outputs": [
    {
     "name": "stdout",
     "output_type": "stream",
     "text": [
      "the milage is about 100kmph\n",
      "white\n"
     ]
    }
   ],
   "source": [
    "# abstraction \n",
    "\n",
    "from abc import ABC,abstractmethod\n",
    "\n",
    "class car(ABC):\n",
    "    @abstractmethod                      # this is the abstract method which will be there in all subsequent class , but different implementation\n",
    "    def milage(self):\n",
    "        pass\n",
    "    def colour(self):                 # concrte method but it will be same in all the subsequent child class.\n",
    "        print(\"white\")\n",
    "\n",
    "class suzuki(car):\n",
    "    def milage(self):\n",
    "        print(\"the speed is about 50kmph\")\n",
    "\n",
    "class tata(car):\n",
    "    def milage(self):\n",
    "        print(\"the milage is about 100kmph\")\n",
    "\n",
    "\n",
    "t1=tata()\n",
    "t1.milage()\n",
    "t1.colour()\n"
   ]
  },
  {
   "cell_type": "code",
   "execution_count": 115,
   "metadata": {},
   "outputs": [
    {
     "name": "stdout",
     "output_type": "stream",
     "text": [
      "2.0\n"
     ]
    }
   ],
   "source": [
    "# class decorator (which is basically is decorator which adds so functionality to to extend the behaviour of the class.)\n",
    "\n",
    "def div(a,b):\n",
    "    print(a/b)\n",
    "\n",
    "def smart_div(func):\n",
    "    def inner(a,b):\n",
    "        if a<b:\n",
    "            a,b=b,a\n",
    "        return func(a,b)\n",
    "    return inner\n",
    "\n",
    "div1=smart_div(div)\n",
    "div1(4,2)"
   ]
  }
 ],
 "metadata": {
  "kernelspec": {
   "display_name": ".venv",
   "language": "python",
   "name": "python3"
  },
  "language_info": {
   "codemirror_mode": {
    "name": "ipython",
    "version": 3
   },
   "file_extension": ".py",
   "mimetype": "text/x-python",
   "name": "python",
   "nbconvert_exporter": "python",
   "pygments_lexer": "ipython3",
   "version": "3.10.9"
  },
  "orig_nbformat": 4,
  "vscode": {
   "interpreter": {
    "hash": "07a0dc762e468e79cdb485f22c723b0ab83afe9052990c6a0d4088306111b463"
   }
  }
 },
 "nbformat": 4,
 "nbformat_minor": 2
}
